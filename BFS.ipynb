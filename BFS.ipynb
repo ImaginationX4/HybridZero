{
  "nbformat": 4,
  "nbformat_minor": 0,
  "metadata": {
    "colab": {
      "provenance": [],
      "authorship_tag": "ABX9TyO2J++xc4hpzBhbIXquaBtm",
      "include_colab_link": true
    },
    "kernelspec": {
      "name": "python3",
      "display_name": "Python 3"
    },
    "language_info": {
      "name": "python"
    }
  },
  "cells": [
    {
      "cell_type": "markdown",
      "metadata": {
        "id": "view-in-github",
        "colab_type": "text"
      },
      "source": [
        "<a href=\"https://colab.research.google.com/github/ImaginationX4/HybridZero-/blob/main/alphazero_style_BFS.ipynb\" target=\"_parent\"><img src=\"https://colab.research.google.com/assets/colab-badge.svg\" alt=\"Open In Colab\"/></a>"
      ]
    },
    {
      "cell_type": "code",
      "execution_count": null,
      "metadata": {
        "colab": {
          "base_uri": "https://localhost:8080/"
        },
        "id": "3uc3JqgbwFgj",
        "outputId": "2a49a90d-3987-46db-8344-8a781e0dd4dd"
      },
      "outputs": [
        {
          "output_type": "stream",
          "name": "stdout",
          "text": [
            "Collecting gymnasium\n",
            "  Downloading gymnasium-1.0.0-py3-none-any.whl.metadata (9.5 kB)\n",
            "Requirement already satisfied: numpy>=1.21.0 in /usr/local/lib/python3.10/dist-packages (from gymnasium) (1.26.4)\n",
            "Requirement already satisfied: cloudpickle>=1.2.0 in /usr/local/lib/python3.10/dist-packages (from gymnasium) (3.1.0)\n",
            "Requirement already satisfied: typing-extensions>=4.3.0 in /usr/local/lib/python3.10/dist-packages (from gymnasium) (4.12.2)\n",
            "Collecting farama-notifications>=0.0.1 (from gymnasium)\n",
            "  Downloading Farama_Notifications-0.0.4-py3-none-any.whl.metadata (558 bytes)\n",
            "Downloading gymnasium-1.0.0-py3-none-any.whl (958 kB)\n",
            "\u001b[2K   \u001b[90m━━━━━━━━━━━━━━━━━━━━━━━━━━━━━━━━━━━━━━━━\u001b[0m \u001b[32m958.1/958.1 kB\u001b[0m \u001b[31m11.6 MB/s\u001b[0m eta \u001b[36m0:00:00\u001b[0m\n",
            "\u001b[?25hDownloading Farama_Notifications-0.0.4-py3-none-any.whl (2.5 kB)\n",
            "Installing collected packages: farama-notifications, gymnasium\n",
            "Successfully installed farama-notifications-0.0.4 gymnasium-1.0.0\n"
          ]
        }
      ],
      "source": [
        "!pip install gymnasium"
      ]
    },
    {
      "cell_type": "code",
      "source": [
        "import torch\n",
        "import torch.nn as nn\n",
        "import torch.nn.functional as F\n",
        "class Network(nn.Module):\n",
        "  def __init__(self, input_size=16, output_size=1):\n",
        "      super(Network, self).__init__()\n",
        "      self.device = torch.device('cuda' if torch.cuda.is_available() else 'cpu')\n",
        "\n",
        "      self.net = nn.Sequential(\n",
        "            nn.Linear(input_size, 256),\n",
        "            nn.ReLU(),\n",
        "            nn.LayerNorm(256),\n",
        "            nn.Linear(256, 256),\n",
        "            nn.ReLU(),\n",
        "            nn.LayerNorm(256),\n",
        "            nn.Linear(256, output_size)\n",
        "        )\n",
        "\n",
        "\n",
        "  def forward(self, x):\n",
        "    if not isinstance(x, torch.Tensor):\n",
        "        x = torch.FloatTensor(x)\n",
        "\n",
        "    x = x.to(self.device)\n",
        "\n",
        "    value = self.net(x)\n",
        "    return value\n",
        "\n",
        "  def save(self, filepath):\n",
        "    torch.save(self.state_dict(), filepath)\n",
        "    print(f\"Model saved to {filepath}\")\n",
        "\n",
        "  def load(self, filepath):\n",
        "    self.load_state_dict(torch.load(filepath, map_location=self.device))\n",
        "    print(f\"Model loaded from {filepath}\")"
      ],
      "metadata": {
        "id": "KBYRdzso49he"
      },
      "execution_count": null,
      "outputs": []
    },
    {
      "cell_type": "code",
      "source": [
        "import gymnasium as gym\n",
        "import numpy as np\n",
        "class PathNode:\n",
        "  def __init__(self, state, action=None, parent=None, is_terminated=False, is_hole=False):\n",
        "      self.state = state        # 当前状态\n",
        "      self.action = action      # 到达此状态的动作\n",
        "      self.parent = parent      # 前一个节点\n",
        "      self.children = []        # 后续可能的路径\n",
        "      self.is_terminated = is_terminated  # 标记是否是终止状态（不管成功还是失败）\n",
        "      self.is_hole = is_hole\n",
        "\n",
        "\n",
        "  def get_path(self):\n",
        "    # 回溯完整路径\n",
        "    path = []\n",
        "    current = self\n",
        "    while current:\n",
        "      path.append((current.state, current.action))\n",
        "      current = current.parent\n",
        "    return list(reversed(path))\n",
        "  def add_child(self, child_node):\n",
        "    self.children.append(child_node)\n",
        "\n",
        "  def __lt__(self, other):\n",
        "      return False\n"
      ],
      "metadata": {
        "id": "jg_FB347wL_P"
      },
      "execution_count": null,
      "outputs": []
    },
    {
      "cell_type": "code",
      "source": [
        "from queue import PriorityQueue\n",
        "import numpy as np\n",
        "\n",
        "def action_to_chinese(actions):\n",
        "  translation = {\n",
        "      0: \"左\",\n",
        "      1: \"下\",\n",
        "      2: \"右\",\n",
        "      3: \"上\"\n",
        "  }\n",
        "  return [translation[a] for a in actions]\n",
        "class PathFinder:\n",
        "  def __init__(self, grid_size=4):\n",
        "    self.grid_size = grid_size\n",
        "    self.goal = 15\n",
        "    self.env = gym.make('FrozenLake-v1', is_slippery=False)\n",
        "    self.net = Network()\n",
        "\n",
        "  def get_valid_actions(self, state):\n",
        "    row = state // 4    # 行号\n",
        "    col = state % 4     # 列号\n",
        "    actions = []\n",
        "\n",
        "    # 检查四个方向的有效性\n",
        "    if col > 0: actions.append(0)    # 可以向左\n",
        "    if row < 3: actions.append(1)    # 可以向下\n",
        "    if col < 3: actions.append(2)    # 可以向右\n",
        "    if row > 0: actions.append(3)    # 可以向上\n",
        "\n",
        "    return actions\n",
        "\n",
        "  def manhattan_distance(self, state, goal_state):\n",
        "\n",
        "    current_row = state // 4\n",
        "    current_col = state % 4\n",
        "    goal_row = goal_state // 4\n",
        "    goal_col = goal_state % 4\n",
        "    return abs(current_row - goal_row) + abs(current_col - goal_col)\n",
        "  def net_value(self, state):\n",
        "    state_one_hot = torch.zeros(self.grid_size * self.grid_size)\n",
        "    state_one_hot[state] = 1\n",
        "    value =  self.net(state_one_hot)\n",
        "    return value.item()\n",
        "\n",
        "  def best_first_search(self, start_state ,max_path_length=10):\n",
        "    frontier = PriorityQueue()\n",
        "    # 优先级是到目标的曼哈顿距离\n",
        "    initial_priority = self.manhattan_distance(start_state, self.goal)\n",
        "    root = PathNode(start_state)\n",
        "    frontier.put((initial_priority, start_state, root))\n",
        "    all_paths = {\n",
        "        'success': [],  # 成功到达目标的路径\n",
        "        'hole': [],    # 掉进洞里的路径\n",
        "        'timeout': []  # 超过最大长度的路径\n",
        "    }\n",
        "\n",
        "    def get_path_states(node):\n",
        "      # 获取当前路径上的所有状态\n",
        "      states = set()\n",
        "      current = node\n",
        "      while current:\n",
        "          states.add(current.state)\n",
        "          current = current.parent\n",
        "      return states\n",
        "\n",
        "    def get_path_length(node):\n",
        "        length = 0\n",
        "        current = node\n",
        "        while current.parent:\n",
        "            length += 1\n",
        "            current = current.parent\n",
        "        return length\n",
        "\n",
        "    while not frontier.empty():\n",
        "      priority,_, current_node = frontier.get()\n",
        "      current_path_states = get_path_states(current_node)\n",
        "      #print('current_path_states',current_path_states)\n",
        "      current_length = get_path_length(current_node)\n",
        "      # 检查是否超过最大路径长度\n",
        "      if current_length >= max_path_length:\n",
        "        all_paths['timeout'].append(current_node.get_path())\n",
        "        continue\n",
        "\n",
        "      # 检查当前状态\n",
        "      if current_node.is_hole:\n",
        "        all_paths['hole'].append(current_node.get_path())\n",
        "        continue\n",
        "\n",
        "      if current_node.state == self.goal:\n",
        "        all_paths['success'].append(current_node.get_path())\n",
        "        break\n",
        "\n",
        "      # 展开当前节点\n",
        "      #print('get_valid_actions(current_node.state)',action_to_chinese(self.get_valid_actions(current_node.state)))\n",
        "      for action in self.get_valid_actions(current_node.state):\n",
        "        self.env.reset()\n",
        "        self.env.unwrapped.s = current_node.state\n",
        "\n",
        "        next_state, reward, done, truncated, _ = self.env.step(action)\n",
        "        #avoid back and forth actions\n",
        "        is_hole = done and reward == 0\n",
        "\n",
        "        if next_state not in current_path_states:\n",
        "          #print('new node',next_state)\n",
        "          new_node = PathNode(\n",
        "                    state=next_state,\n",
        "                    action=action,\n",
        "                    parent=current_node,\n",
        "                    is_hole=is_hole,\n",
        "                )\n",
        "          current_node.add_child(new_node)\n",
        "          #new_priority = self.manhattan_distance(next_state, self.goal)\n",
        "          new_priority = self.net_value(next_state)\n",
        "          frontier.put((new_priority, next_state, new_node))\n",
        "\n",
        "    return all_paths, root"
      ],
      "metadata": {
        "id": "lVYfgPMU5b-b"
      },
      "execution_count": null,
      "outputs": []
    },
    {
      "cell_type": "code",
      "source": [
        "import time\n",
        "\n",
        "start_time = time.time()\n",
        "a=PathFinder()\n",
        "print(a.get_valid_actions(0))\n",
        "env=gym.make('FrozenLake-v1', is_slippery=False)\n",
        "state,_=env.reset()\n",
        "all_paths,root=a.best_first_search(state)\n",
        "end_time = time.time()\n",
        "execution_time = end_time - start_time\n",
        "print(f\"执行时间: {execution_time:.4f} 秒\")\n"
      ],
      "metadata": {
        "colab": {
          "base_uri": "https://localhost:8080/"
        },
        "id": "5r3hZNHV5wyQ",
        "outputId": "b938fcab-95cc-44df-de39-963d279f44a2"
      },
      "execution_count": null,
      "outputs": [
        {
          "output_type": "stream",
          "name": "stdout",
          "text": [
            "[1, 2]\n",
            "执行时间: 0.0226 秒\n"
          ]
        }
      ]
    },
    {
      "cell_type": "code",
      "source": [
        "import time\n",
        "\n",
        "start_time = time.time()\n",
        "a=PathFinder()\n",
        "print(a.get_valid_actions(0))\n",
        "env=gym.make('FrozenLake-v1', is_slippery=False)\n",
        "state,_=env.reset()\n",
        "all_paths,root=a.best_first_search(state)\n",
        "end_time = time.time()\n",
        "execution_time = end_time - start_time\n",
        "print(f\"执行时间: {execution_time:.4f} 秒\")"
      ],
      "metadata": {
        "colab": {
          "base_uri": "https://localhost:8080/"
        },
        "id": "h8JtVODB8aYK",
        "outputId": "e3439bb8-9a0d-46aa-fe39-ccae66367c03"
      },
      "execution_count": null,
      "outputs": [
        {
          "output_type": "stream",
          "name": "stdout",
          "text": [
            "[1, 2]\n",
            "执行时间: 0.0133 秒\n"
          ]
        }
      ]
    },
    {
      "cell_type": "code",
      "source": [
        "len(all_paths['timeout'])\n",
        "all_paths['success']\n",
        "action ,state = all_paths['success'][0][1]\n",
        "print(action,state)"
      ],
      "metadata": {
        "colab": {
          "base_uri": "https://localhost:8080/"
        },
        "id": "-iJRAIke7dge",
        "outputId": "e7378c55-e015-4655-9203-941980b775d4"
      },
      "execution_count": null,
      "outputs": [
        {
          "output_type": "stream",
          "name": "stdout",
          "text": [
            "1 2\n"
          ]
        }
      ]
    },
    {
      "cell_type": "code",
      "source": [],
      "metadata": {
        "id": "JB4WjCIo8REJ"
      },
      "execution_count": null,
      "outputs": []
    }
  ]
}
